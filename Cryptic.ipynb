{
 "cells": [
  {
   "cell_type": "code",
   "execution_count": 28,
   "metadata": {},
   "outputs": [],
   "source": [
    "from collections import defaultdict"
   ]
  },
  {
   "cell_type": "code",
   "execution_count": 71,
   "metadata": {},
   "outputs": [],
   "source": [
    "patches = ['HEPCATS',\n",
    "           ' '*7,\n",
    "           'QUIXOTE',\n",
    "           ' '*7,\n",
    "           ' '*8,\n",
    "           'BOXSEAT',\n",
    "           'DEMONRY',\n",
    "           'LAOTIAN',\n",
    "           'BEARSUP',\n",
    "           ' '*8,\n",
    "           'RENTABLE',\n",
    "           ' '*7,\n",
    "           'CAHOOTS',\n",
    "           'TUFFETS',\n",
    "           ' '*7,\n",
    "           ' '*8,\n",
    "           'MINGLES',\n",
    "           'GRENADE',\n",
    "           'HANGERS',\n",
    "           ' '*7]\n",
    "\n",
    "patches = ['HEPCATS',\n",
    "           'ATELIER',\n",
    "           'QUIXOTE',\n",
    "           'IMPLORE',\n",
    "           'STURGEON',\n",
    "           'BOXSEAT',\n",
    "           'DEMONRY',\n",
    "           'LAOTIAN',\n",
    "           'BEARSUP',\n",
    "           ' '*8,\n",
    "           'RENTABLE',\n",
    "           ' '*7,\n",
    "           'CAHOOTS',\n",
    "           'TUFFETS',\n",
    "           'DAPPLES',\n",
    "           'CRESTING',\n",
    "           'MINGLES',\n",
    "           'GRENADE',\n",
    "           'HANGERS',\n",
    "           ' '*7]\n"
   ]
  },
  {
   "cell_type": "code",
   "execution_count": 72,
   "metadata": {},
   "outputs": [
    {
     "data": {
      "text/plain": [
       "True"
      ]
     },
     "execution_count": 72,
     "metadata": {},
     "output_type": "execute_result"
    }
   ],
   "source": [
    "sum(len(s) for s in patches) == 12**2"
   ]
  },
  {
   "cell_type": "code",
   "execution_count": 73,
   "metadata": {},
   "outputs": [],
   "source": [
    "threads = ['SHATTERED',\n",
    "          ' '*7,\n",
    "          'SUPPLEMENTING',\n",
    "          ' '*10,\n",
    "          ' '*7,\n",
    "          ' '*8,\n",
    "          'SALTPETER',\n",
    "          ' '*7,\n",
    "          ' '*7,\n",
    "          'XEROXES',\n",
    "          'LEGROOM',\n",
    "          ' '*7,\n",
    "          'SUBPOENA',\n",
    "          ' '*9,\n",
    "          ' '*10,\n",
    "          ' '*8,\n",
    "          ' '*11]\n",
    "\n",
    "threads = ['SHATTERED',\n",
    "          ' '*7,\n",
    "          'SUPPLEMENTING',\n",
    "          ' '*10,\n",
    "          ' '*7,\n",
    "          ' '*8,\n",
    "          'SALTPETER',\n",
    "          'TEQUILA',\n",
    "          'CHIANTI',\n",
    "          'XEROXES',\n",
    "          'LEGROOM',\n",
    "          'PROTEAN',\n",
    "          'SUBPOENA',\n",
    "          'BILATERAL',\n",
    "          'MYSTERIOUS',\n",
    "          ' '*8,\n",
    "          ' '*11]\n",
    "\n",
    "thread_string = ''.join(threads)"
   ]
  },
  {
   "cell_type": "code",
   "execution_count": 74,
   "metadata": {},
   "outputs": [
    {
     "data": {
      "text/plain": [
       "True"
      ]
     },
     "execution_count": 74,
     "metadata": {},
     "output_type": "execute_result"
    }
   ],
   "source": [
    "sum(len(s) for s in threads) == 12**2"
   ]
  },
  {
   "cell_type": "code",
   "execution_count": 75,
   "metadata": {},
   "outputs": [],
   "source": [
    "letter_codes = '123456789ABCDEFGHIJK'"
   ]
  },
  {
   "cell_type": "code",
   "execution_count": 76,
   "metadata": {},
   "outputs": [
    {
     "data": {
      "text/plain": [
       "True"
      ]
     },
     "execution_count": 76,
     "metadata": {},
     "output_type": "execute_result"
    }
   ],
   "source": [
    "len(letter_codes)==20"
   ]
  },
  {
   "cell_type": "code",
   "execution_count": 77,
   "metadata": {},
   "outputs": [],
   "source": [
    "letter_code_mapping = { letter:(i+1) for i, letter in enumerate(letter_codes) }"
   ]
  },
  {
   "cell_type": "code",
   "execution_count": 78,
   "metadata": {},
   "outputs": [],
   "source": [
    "grid = \"\"\"\n",
    "112222333344\n",
    "111225533444\n",
    "611255553447\n",
    "666885599777\n",
    "66A888999B77\n",
    "6AAA8899BBB7\n",
    "CAAADDEEBBBF\n",
    "CCADDDEEEBFF\n",
    "CCCDDGGEEFFF\n",
    "CHHIGGGGJKKF\n",
    "HHHIIGGJJKKK\n",
    "HHIIIIJJJJKK\n",
    "\"\"\"\n",
    "grid = [s for s in grid if s not in ' \\n']\n",
    "grid = [letter_code_mapping[letter] for letter in grid]"
   ]
  },
  {
   "cell_type": "code",
   "execution_count": 79,
   "metadata": {},
   "outputs": [
    {
     "data": {
      "text/plain": [
       "True"
      ]
     },
     "execution_count": 79,
     "metadata": {},
     "output_type": "execute_result"
    }
   ],
   "source": [
    "len(grid)==12**2"
   ]
  },
  {
   "cell_type": "code",
   "execution_count": 80,
   "metadata": {},
   "outputs": [
    {
     "data": {
      "text/plain": [
       "'SHATTERED       SUPPLEMENTING                         SALTPETERTEQUILACHIANTIXEROXESLEGROOMPROTEANSUBPOENABILATERALMYSTERIOUS                   '"
      ]
     },
     "execution_count": 80,
     "metadata": {},
     "output_type": "execute_result"
    }
   ],
   "source": [
    "thread_string"
   ]
  },
  {
   "cell_type": "code",
   "execution_count": 81,
   "metadata": {},
   "outputs": [],
   "source": [
    "def test(thread_string):\n",
    "    h = defaultdict(lambda : [])\n",
    "    for (i,letter) in zip(grid,thread_string):\n",
    "        if letter != ' ':\n",
    "            h[i].append(letter)\n",
    "    for i in range(1,21):\n",
    "        h[i] = sorted(h[i])\n",
    "    log = ''\n",
    "    for i, patch in enumerate(patches):\n",
    "        if set(patch) == {' '} :\n",
    "            continue\n",
    "        sorted_patch = sorted(patch)\n",
    "        j = 0\n",
    "        found = 0\n",
    "        for k in range(len(h[i+1])):\n",
    "            while h[i+1][k] != sorted_patch[j]:\n",
    "                j += 1\n",
    "                if j >= len(patch):\n",
    "                    break\n",
    "            if j>= len(patch):\n",
    "                break\n",
    "            if h[i+1][k] == sorted_patch[j]:\n",
    "                found += 1\n",
    "        if found != len(h[i+1]):\n",
    "            log += f'{patch} not ok\\n'\n",
    "            break\n",
    "    if not log:\n",
    "        for i in range(12):\n",
    "            print(thread_string[i*12:i*12+12])\n",
    "    else:\n",
    "        return log"
   ]
  },
  {
   "cell_type": "code",
   "execution_count": 82,
   "metadata": {},
   "outputs": [
    {
     "name": "stdout",
     "output_type": "stream",
     "text": [
      "TPETERTEQUIL\n",
      "ACHIANTIXERO\n",
      "XESLEGROOMPR\n",
      "OTEANSUBPOEN\n",
      "ABILATERALMY\n",
      "STERIOUS    \n",
      "            \n",
      "   SHATTERED\n",
      "       SUPPL\n",
      "EMENTING    \n",
      "            \n",
      "         SAL\n"
     ]
    }
   ],
   "source": [
    "for i in range(144):\n",
    "    trial = thread_string[i:] + thread_string[:i]\n",
    "    test(trial)"
   ]
  },
  {
   "cell_type": "code",
   "execution_count": null,
   "metadata": {},
   "outputs": [],
   "source": [
    "# find all pairs of 7 letter words where the\n",
    "# 1) first word contains the letters 'abel'\n",
    "# 2) the second word ends in either -toes -tose -otes -otse\n",
    "# 3) the other 3 letters of the two words are common to both."
   ]
  },
  {
   "cell_type": "code",
   "execution_count": 165,
   "metadata": {},
   "outputs": [],
   "source": [
    "from collections import Counter"
   ]
  },
  {
   "cell_type": "code",
   "execution_count": 181,
   "metadata": {},
   "outputs": [],
   "source": [
    "letters1 = \"abel\"\n",
    "wordlist1 = \"abelianabeliasabettalableismableistablatedablatesabluentablutedabaloneabaxileabollaeabollaeabseilsabsolveabubbleabustlealbedosalbertsalbitesalbumenalembicalgebraalibiedalibiesabubbleabubbleactableaddableaddibleaffableamblersamiablearablesastableastilbeaudiblebaleensbalefulbalancebalasesbaldestbaldiesbaleensbaliagebalkersbalkierballersballetsballadeballiesballutebalmierbalnealbaloneybabbledbabblerbabblesbaffledbafflerbafflesbaglessbaileesbailersbaileysbaileesbailiesbalefulballersballetsballadeballiesballutebalnealbanefulbanglesbarlessbarleysbarlinebarbellbarbelsbarbellbarbulebarrelsbasculebassletbastilebatlikebattelsbattledbattlerbattlesbaulkedbaublesbawlersbawleysbayleafbealachbeadlesbeadletbeadilybeagledbeaglerbeaglesbeamilybeastlybelaborbelacedbelatedbelaudsbelayedbelayerbeldamebeldamsbeleapsbeleaptbellmanbeltmanbeltwaybelugasbealachbecalmsbeclaspbecloakbechalkbecrawlbedlampbedlamsbedloadbedrailbeefalobefallsbefallsbeflagsbefleasbegallsbegallsbegladsbellmanbenthalbestialbewailsblabbedblabberblackedblackenblackerbladersbladderblaggedblaggerblaguesblamersblancheblanderblankedblankerblanketblarneyblastedblasterblastieblatherblattedblatterblazersbleakerbleaklyblearedbleatedbleaterbleakerblearedbleatedbleaterbloatedbloaterbluecapbluejaybalancebalasesbaliageballadebalnealballadebalnealbayleafbeadlesbeadletbeagledbeaglerbeaglesbeefalobelacedbelatedbelayedbelayerbeleapsbeleaptbeldamebefleasbilayerbikablebimetalbipedalbiplanebitablebivalvebleaklyboatelsbolasesbonselabralessbrabblebrailedbraillebraillebramblebrattlebravelybrawledbrawlerbrawliebulkagebullacebullatebubalesbullacebullatebuyablebyelawsearlobeeatableeatableeffableembalmsemblazeenabledenablerenablesequableequablyeyeableeyeballeyeballlabeledlabelerlabellalabeledlabelerlabiatelaboredlaborerlabretslambentlamberslambertlambierlambieslesbianlabellalabiateliberallibratelikablelimbatelinablelivablelobatedlobelialosablelovableabaloneabaxileabelianabeliasabettalablatedablatesabollaeabollaealgebraactableaddableaffableamiablearablesastablebabbledbabblerbabblesbabbledbabblerbabblesbarbellbarbelsbarbellbarbulebaublesbelaborblabbedblabberblabbedblabberbikablebitablebrabblebrabblebramblebubalesbuyablecabletscalibercalibrecapablecembalicembaloclabberclabberclambercapablechaebolcitablecodablecueballcueballcurabledabbleddabblerdabblesdabbleddabblerdabblesdatabledebacledatabledebacledisabledowabledrabbledrabbledryabledupabledurabledyeabledyeableearlobeeatableeatableeffableemblazeenabledenablerenablesequableeyeableeyeballeyeballeyeablefablersfablessfadableflambeeflambesflambeeflatbedfleabagfleabagflyablefadablefibulaefilabegfinablefixableflyablefriablegabellegabellegabletsgabbledgabblergabblesgabellegabellegabbledgabblergabblesgambledgamblergamblesgambrelgarbledgarblergarblesgelablegelablegetableglobategelablegelablegetablegrabblegrabblehalberdhalberthatableherbalshewablehatablehewablehidablehirableimblazejalebisjellabajellabajellabajellabakeblahslabeledlabelerlabellalabellalabeledlabelerlabellalabellaliberallikablelinablelivablelobelialosablelovablemalimbemakablemarbledmarblermarblesmakableminablemixablemovablemutablenamablenebulaenebularnebulasnetballnetballnamablenebulaenotableobeliasoblatesownableparablepayableplacebopliableparablepayablephabletpiebaldpliableposablepotablepuberalrabbledrabblerrabblesrabbledrabblerrabblesrambledramblerramblesratablerelabelrelabelretableretabloratablerelabelrelabelretableridableropablerowablerubellarubellarubeolarulablerulablesalablesalablesavablesayableseeablesewableslabbedslabberslabbedslabbersalablesalablesavablesayablescabblescabbleseeableseeablesewableshamblesizableskiablesolebarsowablestabledstablerstablesstabilesublatesubsaletableautabletstabliertakabletamabletaxableteabowltenabletenablytableautakabletamabletaxabletenabletimbaletotabletowabletriabletunabletypableuseableuseablyuseableverbalsvocablevotablewabbledwabblerwabbleswabbledwabblerwabbleswadablewambledwambleswarbledwarblerwarbleswebmailwadablewirablewooable\"\n",
    "wordlist1 = list({wordlist1[7*i:7*(i+1)] for i in range(len(wordlist1)//7)})"
   ]
  },
  {
   "cell_type": "code",
   "execution_count": 182,
   "metadata": {},
   "outputs": [],
   "source": [
    "letters2 = \"toes\"\n",
    "wordlist2 = \"eolithsestoileestroneestrousestriolescotedescortsespartoetoilesetalonsethosesethosesethionsetymonsearshoteconutseditorseftsooneftsooneffortsegotismegotistegoistsegoistsegotistemotersemptorsentoilsentombsentisolendmostenrootsenrootserotismeroticsestrousescortsexotismexoticsextollsextortsextensoexhortsexpositexportsextortseyeshoteyespotoestrinoestrumoestrusoerstedoestrusosteoidosteomaosteriaostioleostlersostosesoatiestoakiestoatiestobesityobtestsobtestsobtuserobitersobjectsoblatesobtestsobtestsobvertsocelotsoctanesoctavesoerstedoffsetsoffsetsoiliestolestraoleatesoldsteroleatesomeletsomeletsonstageonliestoocytesoofiestoolitesooziestopenestoptimesopenestophitesopiatesorbiestorgeatsorientsostlersostosesostosesoustersouteatsoutseenoutseesoutselloutsertoutsetsoutseenoutseesoutsideoutsizeoutsoleoutspedoutstepoutagesoutbegsoutdoesoutgoesoutjiesoutletsoutliesoutseesoutsetsoutseesoutviesoustersouteatsoutsetsoutsertoutstepoutletsoutsetsoversetoversetoystersoysterssetoffssetoutssettlorseaboatseabootseabootseaportsectorssectionselloutsentimosenatorsertaossetoutssettlorsextonssexpotssocietesocietysocietesocketssoftenssoftestsoftiessoftestsoleretsolatedsolatessoleretsolutessolventsolvatesomitessonnetssoothedsoothersoothessootiersoonestsopitedsopitessorterssortiedsortiessorbetssorbentsorbatesoritessosatiesouterssoutanesouthedsouthersourestsovietsstemsonstenokystentorstepmomstepsonsteroidsterolsstereosstertorstewpotstobbedstockedstockerstodgedstodgesstogeysstoggedstogiesstokersstokvelstollenstomatestompedstomperstompiestonersstonierstonkedstonkerstoogedstoogesstookedstookerstooledstooliestoopedstooperstopersstoppedstopperstopplestorersstoreysstoragestoriedstoriesstormedstormerstottedstottiestouresstouriestoutenstouterstoversstoviesstowagestereosstoogedstoogesstookedstookerstooledstooliestoopedstooperstrettostrobedstrobesstrokedstrokerstrokesstrophestrowedstroyedstroyersabotedsanterosapotesscotersscottiescootedscooterscottiescoutedscouterscootedscooterscrotessherootsherootshottedshottenshochetshootershortedshortenshortershortieshottedshottenshoutedshoutershooterskatoleslottedslottedslowestsmothersmoothesmoothesnottersnootedsnortedsnortersnottersnoutedsnootedsoothedsoothersoothessootiersoonestspottedspottersportedsporterspottedspotterspoutedspouterstentorstertorstewpotstottedstottiestomatestottedstottiestoutenstouterstrettostrettosubtoneswottedswotterswottedswottersyntonesystoleteopanstestonstestoontestoontestudoteashopteapotsteapoystedioustelomestelsonsteleosttelsonstemenostenourstensonstensorstensiontendonstensonstensorstenuoustenutostenzonsteredostermorsterrorstestonstetrosetoeshoetoecapstoelesstoelesstoeragstosserstoastedtoastertoastietoadiestocherstoddiestoddlestodgerstoeshoetoelesstoelesstoffeestoffeestoffiestogglestoilerstoiletstoledostolanestollenstollerstommiestonemestonsuretonemestongerstonguestoniesttonletstonnerstonusestonusestoolerstoolsettooterstootsestootsietootlestootsestopsidetopazestoplesstoplesstopperstoppiestopplestoquetstorerostorselstorsadetorchestorquestorselstortiestorusestorusestosserstosserstotterstottiestousledtouslestouchestoupeestoupeestourerstouslestouterstouzlestowagestowheestowheestowiesttowneestowneestowniestoxinestoylesstoylesstalcosetangoesteleosttelomestemenosteredostetrosethermosthorpesthronestientostimeoustiptoestoeshoetoolerstoolsettooterstootsestootsietootlestootsestoeshoetoledostorerostreasontremorstrochestrompestrousertroupestroverstrowelstriosestriodestriosestrisometussoretupelostussoretuxedostwosometwoferstwonesstwonesstwasometwosometyphoseaerosatatomiesatomiseatonersatoniesatopiesacetoseacetousacetosealecostamositeapostleavosetsavocetsavosetsazotisebestowsbestrowbeshoutbettorsbedpostbeknotsbenthosbestowsbettorsbosketsbosquetbotchesbothersbothiesbotnetsbottiesbottlesboastedboasterboatelsboatersboatiesboletesboletusbolsterboltersboldestboletesbonesetbonesetboniestbonnetsboostedboosterbooteesbooteesbootiesbortzesboratesbosketsbottiesbottlesbotnetsbowtiesboxsetsboxiestboxsetsboostedboosterbooteesbooteesbootiescestodecestoidcenotescoesitecoeditscoemptscoexistcosterscostatecostivecostrelcostumecosiestcossetscostatecotisescotisescotterscottisecotypescoastedcoastercoateescoaterscoateescoesitecolterscoldestcolletscomatesconsentcontestcontusecongestcontestcooterscootiescoolestcopterscoquetscorsetscorsletcornetscorsetscorvetscossetscosterscosiestcossetscotterscottisecouterscovertscowiestcoyotescoziestcapotescestodecenotescitolesclosetsclosestclothesclosestclosetscooterscootiescoolestcoyotescroutesdestockdestroydesktopdespotsdetoursdetoxesdebtorsdecoctsdefrostdehortsdemotesdenotesdepositdeportsdespotsdevotesdotagesdotiestdottelsdottersdottlesdocentsdocketsdonatesdopiestdottelsdottersdottlesdotiestdourestdoziestdetoxesdemotesdenotesdevotesdistomeduteousestoileestroneescotedetoilesethosesethosesemotersextensoeyeshoteyespotfestoonfestoonfoetorsfostersfossatefoistedfolatesfomentsfomitesfondestfoosterfootersfootsiefootiesfootlesforestsforestsfortiesforgetsfossatefostersfoulestfoxiestfoziestfatsoesfatsoesflotelsfloretsfoetorsfoosterfootersfootsiefootiesfootlesfrostedfrontesgeotagsgestapogetoutsgelatosgemotesgentoosgentoosgetoutsgoateesgoateesgobbetsgobletsgogletsgoitersgoitresgoldestgooiestgorgetsgoriestgarotesgemotesghettosghettosghostedgjetostgjetostgooiestgustoesgustoesheteroshectorsheptoseheriotshostelshostesshostagehostilehostlerhotseathotshoehotbedshotcheshotkeyshotnesshotnesshottesthottershottieshocketshogtieshoggetshoistedhoisterhokiestholsterholiesthomiesthonestyhootershorsteshornetshorsteshostesshostelshostesshotseathottesthottershottieshottesthowletsheterosheptosehistonehootershotshoeiodatesiolitesisotoneisotopeisotypeisohyetisolateisotoneisotopeinositeinstoreintonesjetsomsjetsomsjettonsjettonsjostledjostlerjostlesjottersjoistedjokiestjoltersjostlesjottersjoustedjousterketosesketosisketonesketosesketosisketosesketonesketosesletoffslectorslegatosleptonslotoseslotoseslotuseslotusesloatheslobsterlocateslocketsloftersloggetslogiestloiterslomentslongestloosestlootersloosestloudestlactoselitoteslithoeslitotesloosestlootersloosestlotoseslotosesluteousmestesomestinomestizometopesmeteorsmethodsmeltonsmentorsmerlotsmestesomostestmostestmotsersmothersmotilesmotivesmotleysmotsersmottlesmottoesmobstermodestymodistemoistenmoistermolestsmolestsmoltersmomentsmonstermootersmoonsetmopiestmoppetsmortisemostestmostestmottlesmottoesmaestromaltosemestesometeorsmetopesmestesomitosesmitosesmootersmoonsetmottoesmottoesmyosotemyosotenestorsnestboxnektonsnestorsneustonnewtonsnosiestnotatesnotchesnoticesnoblestnoritesnosiestnotatesnovatesoocytesoofiestoolitesooziestosteoidosteomaostosesostioleocelotsostosesostosesoutsoleoutdoesoutgoespetasospetasospetrolspetrouspegtopspelotaspentosepeyotespeyotlspoetesspoetesspoetisepoeticsposteenposternposterspostageposteenpostiespostmenpostureposhestposiestpositedpossetspoteenspotsiespotagespoteenspotherspotjiespotpiespotsiespotterspottiespottlespotzerspocketspodestapoditespoetesspoetesspoetisepointespokiestpooterspootlespoorestpopsterpopotespoppetsporterspossetsposterspostiesposhestposiestpossetspotterspottiespottlespouterspowterspoxiestpentosepeyotesphotoesphotoespioletspistolepiteouspintoesplotzespooterspootlespoorestpopotespresortprestospretorsprestosprosectprostieprotestproteasproteusprojetsprotestprowestquestorquotersresojetresortsrestockrestokerestorerestiosreshootreshootrespotsretoolsretortsretconsretoolsrebootsrebatosrebootsrecoatsrectorsredoutsredtopsremotesrepostsrepositreportsrepostsreplotsresortsrestiosrespotsretortsrevotesrevoltsrosetteroseaterosetterostersrosetteroseaterosetterosiestrotatesrotchesrottersroastedroasterrochetsrocketsrodentsrodletsroisterroostedroosterrootersrootlesropiestroquetsrostersrosiestrottersrotatesroustedrousterroutersrougetsroysterresojetrestokerestoreremotesrevotesrhetorsriotersriposteroostedroosterrootersrootlessetoffssetoutssectorssertaossetoutssextonssexpotssosatiesocketssoftestsoftenssoftiessoftestsolatessolutessomitessonnetssoothessoonestsopitessorterssortiessorbetssoritessouterssourestsovietsstemsonstepsonsterolsstereosstodgesstogeysstogiesstokersstonersstoogesstopersstorersstoreysstoriesstouresstoversstoviesstereosstoogesstrobesstrokessapotesscotersscrotesslowestsoothessoonestsystoletestonstestoontestoontestudotetroseteapotsteleosttenutostestonstotterstottiestoastedtoastertoastietoiletstoniesttonletstooterstootsestootsietootlestootsestoolsettoquetstortiestotterstottiestouterstowiesttetroseteleosttientostiptoestooterstootsestootsietootlestootsestoolsetvetoersvectorsvoetsakvoetsekvotivesvotressvotressvoetsekvolutesvetoersvioletsworsetsworstedworsetszealotszemstvozosterszoisitezooiestzosterszlotieszooiestzygotes\"\n",
    "wordlist2 = list({wordlist2[7*i:7*(i+1)] for i in range(len(wordlist2)//7)})"
   ]
  },
  {
   "cell_type": "code",
   "execution_count": 183,
   "metadata": {},
   "outputs": [],
   "source": [
    "x1 = [Counter(list(word)) - Counter(letters1) for word in wordlist1]    "
   ]
  },
  {
   "cell_type": "code",
   "execution_count": 184,
   "metadata": {},
   "outputs": [],
   "source": [
    "x2 = [Counter(list(word)) - Counter(letters2) for word in wordlist2]"
   ]
  },
  {
   "cell_type": "code",
   "execution_count": 186,
   "metadata": {},
   "outputs": [
    {
     "name": "stdout",
     "output_type": "stream",
     "text": [
      "enabled denotes\n",
      "belugas gustoes\n",
      "capable capotes\n",
      "blagues gustoes\n",
      "beldame demotes\n",
      "biplane pintoes\n",
      "algebra garotes\n"
     ]
    }
   ],
   "source": [
    "for i1, xx1 in enumerate(x1):\n",
    "    for i2, xx2 in enumerate(x2):\n",
    "        if xx1==xx2:\n",
    "            word1 = wordlist1[i1]\n",
    "            word2 = wordlist2[i2]\n",
    "            if word2[3:5] in ['to','ot']:\n",
    "                if word2[5:7] in ['es','se']:\n",
    "                    print(word1,word2)"
   ]
  },
  {
   "cell_type": "code",
   "execution_count": 187,
   "metadata": {},
   "outputs": [],
   "source": [
    "# biplane / pintoes is what I needed"
   ]
  },
  {
   "cell_type": "code",
   "execution_count": null,
   "metadata": {},
   "outputs": [],
   "source": []
  }
 ],
 "metadata": {
  "kernelspec": {
   "display_name": "Python 3",
   "language": "python",
   "name": "python3"
  },
  "language_info": {
   "codemirror_mode": {
    "name": "ipython",
    "version": 3
   },
   "file_extension": ".py",
   "mimetype": "text/x-python",
   "name": "python",
   "nbconvert_exporter": "python",
   "pygments_lexer": "ipython3",
   "version": "3.7.6"
  }
 },
 "nbformat": 4,
 "nbformat_minor": 4
}
